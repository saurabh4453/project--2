{
 "cells": [
  {
   "cell_type": "code",
   "execution_count": 1,
   "id": "9ec8ac16-5e58-4a60-8ee8-c3527e32f0e8",
   "metadata": {},
   "outputs": [],
   "source": [
    "##, Calculate the sum, difference, prodact, and quotient of two numbers."
   ]
  },
  {
   "cell_type": "code",
   "execution_count": 2,
   "id": "be3f6b12-4e0d-49db-9820-ca070f4ad227",
   "metadata": {},
   "outputs": [
    {
     "name": "stdin",
     "output_type": "stream",
     "text": [
      "Enter the first number:  2\n",
      "Enter the second number:  3\n"
     ]
    },
    {
     "name": "stdout",
     "output_type": "stream",
     "text": [
      "Sum: 5.0\n",
      "Difference: -1.0\n",
      "Product: 6.0\n",
      "Quotient: 0.6666666666666666\n"
     ]
    }
   ],
   "source": [
    "# Input the two numbers\n",
    "x = float(input(\"Enter the first number: \"))\n",
    "y = float(input(\"Enter the second number: \"))\n",
    "\n",
    "# Calculate the sum\n",
    "sum_result = x + y\n",
    "\n",
    "# Calculate the difference\n",
    "difference_result = x - y\n",
    "\n",
    "# Calculate the product\n",
    "product_result = x * y\n",
    "\n",
    "# Check if y is not zero before calculating the quotient\n",
    "if y != 0:\n",
    "    quotient_result = x / y\n",
    "else:\n",
    "    quotient_result = \"Cannot divide by zero\"\n",
    "\n",
    "# Output the results\n",
    "print(\"Sum:\", sum_result)\n",
    "print(\"Difference:\", difference_result)\n",
    "print(\"Product:\", product_result)\n",
    "print(\"Quotient:\", quotient_result)\n"
   ]
  },
  {
   "cell_type": "code",
   "execution_count": null,
   "id": "a392b7dd-47a6-478c-b946-6dbbdd4ae65d",
   "metadata": {},
   "outputs": [],
   "source": [
    "#A, Perform various assignment operations on a variable."
   ]
  },
  {
   "cell_type": "code",
   "execution_count": 3,
   "id": "e6053ab4-c229-4984-b962-55fda7463ff9",
   "metadata": {},
   "outputs": [
    {
     "name": "stdout",
     "output_type": "stream",
     "text": [
      "Addition assignment: 8\n",
      "Subtraction assignment: 6\n",
      "Multiplication assignment: 6\n",
      "Division assignment: 5.0\n",
      "Floor division assignment: 6\n",
      "Exponentiation assignment: 8\n",
      "Modulus assignment: 1\n"
     ]
    }
   ],
   "source": [
    "# Addition assignment\n",
    "x = 5\n",
    "x += 3  # Equivalent to x = x + 3\n",
    "print(\"Addition assignment:\", x)  # Output: 8\n",
    "\n",
    "# Subtraction assignment\n",
    "x = 10\n",
    "x -= 4  # Equivalent to x = x - 4\n",
    "print(\"Subtraction assignment:\", x)  # Output: 6\n",
    "\n",
    "# Multiplication assignment\n",
    "x = 3\n",
    "x *= 2  # Equivalent to x = x * 2\n",
    "print(\"Multiplication assignment:\", x)  # Output: 6\n",
    "\n",
    "# Division assignment\n",
    "x = 20\n",
    "x /= 4  # Equivalent to x = x / 4\n",
    "print(\"Division assignment:\", x)  # Output: 5.0\n",
    "\n",
    "# Floor division assignment\n",
    "x = 20\n",
    "x //= 3  # Equivalent to x = x // 3\n",
    "print(\"Floor division assignment:\", x)  # Output: 6\n",
    "\n",
    "# Exponentiation assignment\n",
    "x = 2\n",
    "x **= 3  # Equivalent to x = x ** 3\n",
    "print(\"Exponentiation assignment:\", x)  # Output: 8\n",
    "\n",
    "# Modulus assignment\n",
    "x = 10\n",
    "x %= 3  # Equivalent to x = x % 3\n",
    "print(\"Modulus assignment:\", x)  # Output: 1\n"
   ]
  },
  {
   "cell_type": "code",
   "execution_count": 4,
   "id": "9e146d3f-02dc-47b0-bd17-5b018b89ba79",
   "metadata": {},
   "outputs": [],
   "source": [
    "# Compare two numbers and print the results."
   ]
  },
  {
   "cell_type": "code",
   "execution_count": 5,
   "id": "8c432672-065b-46c7-90b5-403df198171e",
   "metadata": {},
   "outputs": [
    {
     "name": "stdin",
     "output_type": "stream",
     "text": [
      "Enter the first number:  5\n",
      "Enter the second number:  6\n"
     ]
    },
    {
     "name": "stdout",
     "output_type": "stream",
     "text": [
      "5.0 is less than 6.0\n"
     ]
    }
   ],
   "source": [
    "# Function to compare two numbers\n",
    "def compare_numbers(x, y):\n",
    "    if x > y:\n",
    "        print(f\"{x} is greater than {y}\")\n",
    "    elif x < y:\n",
    "        print(f\"{x} is less than {y}\")\n",
    "    else:\n",
    "        print(f\"{x} is equal to {y}\")\n",
    "\n",
    "# Main function\n",
    "def main():\n",
    "    # Input the two numbers\n",
    "    x = float(input(\"Enter the first number: \"))\n",
    "    y = float(input(\"Enter the second number: \"))\n",
    "\n",
    "    # Call the compare_numbers function\n",
    "    compare_numbers(x, y)\n",
    "\n",
    "# Call the main function\n",
    "if __name__ == \"__main__\":\n",
    "    main()\n"
   ]
  },
  {
   "cell_type": "code",
   "execution_count": 6,
   "id": "e7bdaabe-cbb9-42fd-a7ec-b181d6113fdd",
   "metadata": {},
   "outputs": [],
   "source": [
    "#h, Check conditions using logical operators."
   ]
  },
  {
   "cell_type": "code",
   "execution_count": 7,
   "id": "bb3a14b9-ef67-4df8-8182-b348e7243ba3",
   "metadata": {},
   "outputs": [
    {
     "name": "stdout",
     "output_type": "stream",
     "text": [
      "Both x and y are positive\n",
      "Either x or y is equal to 5\n"
     ]
    }
   ],
   "source": [
    "# Define two variables\n",
    "x = 5\n",
    "y = 10\n",
    "\n",
    "# Logical AND operator\n",
    "if x > 0 and y > 0:\n",
    "    print(\"Both x and y are positive\")\n",
    "\n",
    "# Logical OR operator\n",
    "if x == 5 or y == 5:\n",
    "    print(\"Either x or y is equal to 5\")\n",
    "\n",
    "# Logical NOT operator\n",
    "if not x < y:\n",
    "    print(\"x is not less than y\")\n"
   ]
  },
  {
   "cell_type": "code",
   "execution_count": 8,
   "id": "d9cd3034-9da4-470e-9a94-206a4d6c60e2",
   "metadata": {},
   "outputs": [],
   "source": [
    "# Check the identity of variables."
   ]
  },
  {
   "cell_type": "code",
   "execution_count": 9,
   "id": "73a88112-73b5-47b4-8568-ff96f4d3c948",
   "metadata": {},
   "outputs": [
    {
     "name": "stdout",
     "output_type": "stream",
     "text": [
      "x and y do not refer to the same object\n",
      "x and z refer to the same object\n",
      "x and y do not refer to the same object\n"
     ]
    }
   ],
   "source": [
    "# Define some variables\n",
    "x = [1, 2, 3]\n",
    "y = [1, 2, 3]\n",
    "z = x\n",
    "\n",
    "# Check if x and y refer to the same object\n",
    "if x is y:\n",
    "    print(\"x and y refer to the same object\")\n",
    "else:\n",
    "    print(\"x and y do not refer to the same object\")\n",
    "\n",
    "# Check if x and z refer to the same object\n",
    "if x is z:\n",
    "    print(\"x and z refer to the same object\")\n",
    "else:\n",
    "    print(\"x and z do not refer to the same object\")\n",
    "\n",
    "# Check if x and y do not refer to the same object\n",
    "if x is not y:\n",
    "    print(\"x and y do not refer to the same object\")\n",
    "\n",
    "# Check if x and z refer to the same object\n",
    "if x is not z:\n",
    "    print(\"x and z do not refer to the same object\")\n",
    "\n",
    "    "
   ]
  },
  {
   "cell_type": "code",
   "execution_count": 12,
   "id": "78d51044-6a3e-48d5-9e94-7873ee5b581e",
   "metadata": {},
   "outputs": [],
   "source": [
    "#«, Perform bitwise operations on any two integers."
   ]
  },
  {
   "cell_type": "code",
   "execution_count": 13,
   "id": "83a23564-d092-4b2a-8d4f-cddee7daba71",
   "metadata": {},
   "outputs": [
    {
     "name": "stdout",
     "output_type": "stream",
     "text": [
      "Bitwise AND: 4\n",
      "Bitwise OR: 14\n",
      "Bitwise XOR: 10\n",
      "Bitwise NOT (num1): -13\n",
      "Bitwise NOT (num2): -7\n",
      "Left shift: 48\n",
      "Right shift: 3\n"
     ]
    }
   ],
   "source": [
    "# Define two integers\n",
    "num1 = 12   # Binary: 1100\n",
    "num2 = 6    # Binary: 0110\n",
    "\n",
    "# Bitwise AND\n",
    "result_and = num1 & num2  # Result: 4 (Binary: 0100)\n",
    "print(\"Bitwise AND:\", result_and)\n",
    "\n",
    "# Bitwise OR\n",
    "result_or = num1 | num2    # Result: 14 (Binary: 1110)\n",
    "print(\"Bitwise OR:\", result_or)\n",
    "\n",
    "# Bitwise XOR\n",
    "result_xor = num1 ^ num2   # Result: 10 (Binary: 1010)\n",
    "print(\"Bitwise XOR:\", result_xor)\n",
    "\n",
    "# Bitwise NOT (Unary)\n",
    "result_not_num1 = ~num1    # Result: -13 (Binary: 11111111111111111111111111110011)\n",
    "result_not_num2 = ~num2    # Result: -7 (Binary: 11111111111111111111111111111001)\n",
    "print(\"Bitwise NOT (num1):\", result_not_num1)\n",
    "print(\"Bitwise NOT (num2):\", result_not_num2)\n",
    "\n",
    "# Left shift\n",
    "result_left_shift = num1 << 2  # Result: 48 (Binary: 110000)\n",
    "print(\"Left shift:\", result_left_shift)\n",
    "\n",
    "# Right shift\n",
    "result_right_shift = num1 >> 2  # Result: 3 (Binary: 0011)\n",
    "print(\"Right shift:\", result_right_shift)\n"
   ]
  },
  {
   "cell_type": "code",
   "execution_count": 14,
   "id": "9cdd7770-dfd8-4c6a-94aa-421ff665b2f0",
   "metadata": {},
   "outputs": [],
   "source": [
    "#, Use unary operators to change the sign of a number."
   ]
  },
  {
   "cell_type": "code",
   "execution_count": 15,
   "id": "d6253381-94f3-494d-9062-2b4fc4241ffd",
   "metadata": {},
   "outputs": [
    {
     "name": "stdout",
     "output_type": "stream",
     "text": [
      "Original number: 10\n",
      "Number after changing sign: -10\n"
     ]
    }
   ],
   "source": [
    "# Define a number\n",
    "number = 10\n",
    "\n",
    "# Change the sign using unary negation operator\n",
    "negative_number = -number\n",
    "\n",
    "print(\"Original number:\", number)\n",
    "print(\"Number after changing sign:\", negative_number)\n"
   ]
  },
  {
   "cell_type": "code",
   "execution_count": 16,
   "id": "5b77896d-ca45-4642-aa3e-8c21c4c5e165",
   "metadata": {},
   "outputs": [],
   "source": [
    "#Â, Use the ternary operator to assign values based on conditions."
   ]
  },
  {
   "cell_type": "code",
   "execution_count": 19,
   "id": "825e11cf-de89-4a3c-95df-31be468a73f3",
   "metadata": {},
   "outputs": [
    {
     "ename": "SyntaxError",
     "evalue": "expected ':' (200488482.py, line 2)",
     "output_type": "error",
     "traceback": [
      "\u001b[0;36m  Cell \u001b[0;32mIn[19], line 2\u001b[0;36m\u001b[0m\n\u001b[0;31m    if condition\u001b[0m\n\u001b[0m                 ^\u001b[0m\n\u001b[0;31mSyntaxError\u001b[0m\u001b[0;31m:\u001b[0m expected ':'\n"
     ]
    }
   ],
   "source": []
  },
  {
   "cell_type": "code",
   "execution_count": null,
   "id": "f57af68c-b2d2-42a2-83f2-0465e4de013e",
   "metadata": {},
   "outputs": [],
   "source": []
  }
 ],
 "metadata": {
  "kernelspec": {
   "display_name": "Python 3 (ipykernel)",
   "language": "python",
   "name": "python3"
  },
  "language_info": {
   "codemirror_mode": {
    "name": "ipython",
    "version": 3
   },
   "file_extension": ".py",
   "mimetype": "text/x-python",
   "name": "python",
   "nbconvert_exporter": "python",
   "pygments_lexer": "ipython3",
   "version": "3.10.8"
  }
 },
 "nbformat": 4,
 "nbformat_minor": 5
}
